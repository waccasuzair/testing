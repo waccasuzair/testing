{
  "nbformat": 4,
  "nbformat_minor": 0,
  "metadata": {
    "colab": {
      "provenance": [],
      "authorship_tag": "ABX9TyNUF4BXsNV7lDAM5Gu7pa54",
      "include_colab_link": true
    },
    "kernelspec": {
      "name": "python3",
      "display_name": "Python 3"
    },
    "language_info": {
      "name": "python"
    }
  },
  "cells": [
    {
      "cell_type": "markdown",
      "metadata": {
        "id": "view-in-github",
        "colab_type": "text"
      },
      "source": [
        "<a href=\"https://colab.research.google.com/github/waccasuzair/testing/blob/master/Untitled8.ipynb\" target=\"_parent\"><img src=\"https://colab.research.google.com/assets/colab-badge.svg\" alt=\"Open In Colab\"/></a>"
      ]
    },
    {
      "cell_type": "code",
      "execution_count": 26,
      "metadata": {
        "colab": {
          "base_uri": "https://localhost:8080/"
        },
        "id": "VN2fP9r467eJ",
        "outputId": "8d3164c3-58dd-4465-8a16-dd2e646f61a1"
      },
      "outputs": [
        {
          "output_type": "stream",
          "name": "stdout",
          "text": [
            "dsafª\n",
            "10\n",
            "10 dfads 10\n",
            "10 a gf\n"
          ]
        }
      ],
      "source": [
        "# comment ctrl + /\n",
        "\n",
        "\"\"\" multiline \n",
        "comments\n",
        "\"\"\"\n",
        "\n",
        "\n",
        "\n",
        "\n",
        "print(\"dsaf\\xAA\")\n",
        "\n",
        "abc=10\n",
        "\n",
        "print(abc)\n",
        "\n",
        "print(abc,\"dfads\",abc)\n",
        "\n",
        "print(f'{abc} a gf')"
      ]
    },
    {
      "cell_type": "code",
      "source": [
        "# introduction to sequential programming, instruction set\n",
        "def add(a,b):\n",
        "    x = 0\n",
        "    if x == 3:\n",
        "      print(3)\n",
        "    elif x == 0:\n",
        "      x += 1\n",
        "    else:\n",
        "      print(\"Oh no.\")\n",
        "      print(x)\n",
        "    a=a+2\n",
        "    b=a+b\n",
        "    b=b+3\n",
        "    print(b)\n",
        "    a=a+89\n",
        "    return a/b\n",
        "print(add.__code__.co_varnames)\n",
        "print(list(add.__code__.co_code))"
      ],
      "metadata": {
        "colab": {
          "base_uri": "https://localhost:8080/"
        },
        "id": "98Wn6xYZ-iKl",
        "outputId": "67a13acd-7f89-4c9d-8efd-e3d6c6fe81d0"
      },
      "execution_count": 25,
      "outputs": [
        {
          "output_type": "stream",
          "name": "stdout",
          "text": [
            "('a', 'b', 'x')\n",
            "[100, 1, 125, 2, 124, 2, 100, 2, 107, 2, 114, 22, 116, 0, 100, 2, 131, 1, 1, 0, 110, 34, 124, 2, 100, 1, 107, 2, 114, 40, 124, 2, 100, 3, 55, 0, 125, 2, 110, 16, 116, 0, 100, 4, 131, 1, 1, 0, 116, 0, 124, 2, 131, 1, 1, 0, 124, 0, 100, 5, 23, 0, 125, 0, 124, 0, 124, 1, 23, 0, 125, 1, 124, 1, 100, 2, 23, 0, 125, 1, 116, 0, 124, 1, 131, 1, 1, 0, 124, 0, 100, 6, 23, 0, 125, 0, 124, 0, 124, 1, 27, 0, 83, 0]\n"
          ]
        }
      ]
    },
    {
      "cell_type": "code",
      "source": [
        "import dis\n",
        "dis.opname[124]"
      ],
      "metadata": {
        "colab": {
          "base_uri": "https://localhost:8080/",
          "height": 35
        },
        "id": "_GNIpSVxRMlr",
        "outputId": "47e77c9b-ef65-420e-8319-ca26accf4f76"
      },
      "execution_count": 17,
      "outputs": [
        {
          "output_type": "execute_result",
          "data": {
            "text/plain": [
              "'LOAD_FAST'"
            ],
            "application/vnd.google.colaboratory.intrinsic+json": {
              "type": "string"
            }
          },
          "metadata": {},
          "execution_count": 17
        }
      ]
    },
    {
      "cell_type": "code",
      "source": [
        "\n",
        "dis.dis(add)"
      ],
      "metadata": {
        "colab": {
          "base_uri": "https://localhost:8080/"
        },
        "id": "7TCTOpBtRSB1",
        "outputId": "70bc5d17-2635-483e-d716-9c3936a1ec56"
      },
      "execution_count": 24,
      "outputs": [
        {
          "output_type": "stream",
          "name": "stdout",
          "text": [
            "  3           0 LOAD_CONST               1 (0)\n",
            "              2 STORE_FAST               2 (x)\n",
            "\n",
            "  4           4 LOAD_FAST                2 (x)\n",
            "              6 LOAD_CONST               2 (3)\n",
            "              8 COMPARE_OP               2 (==)\n",
            "             10 POP_JUMP_IF_FALSE       22\n",
            "\n",
            "  5          12 LOAD_GLOBAL              0 (print)\n",
            "             14 LOAD_CONST               2 (3)\n",
            "             16 CALL_FUNCTION            1\n",
            "             18 POP_TOP\n",
            "             20 JUMP_FORWARD            34 (to 56)\n",
            "\n",
            "  6     >>   22 LOAD_FAST                2 (x)\n",
            "             24 LOAD_CONST               1 (0)\n",
            "             26 COMPARE_OP               2 (==)\n",
            "             28 POP_JUMP_IF_FALSE       40\n",
            "\n",
            "  7          30 LOAD_FAST                2 (x)\n",
            "             32 LOAD_CONST               3 (1)\n",
            "             34 INPLACE_ADD\n",
            "             36 STORE_FAST               2 (x)\n",
            "             38 JUMP_FORWARD            16 (to 56)\n",
            "\n",
            "  9     >>   40 LOAD_GLOBAL              0 (print)\n",
            "             42 LOAD_CONST               4 ('Oh no.')\n",
            "             44 CALL_FUNCTION            1\n",
            "             46 POP_TOP\n",
            "\n",
            " 10          48 LOAD_GLOBAL              0 (print)\n",
            "             50 LOAD_FAST                2 (x)\n",
            "             52 CALL_FUNCTION            1\n",
            "             54 POP_TOP\n",
            "\n",
            " 11     >>   56 LOAD_FAST                0 (a)\n",
            "             58 LOAD_CONST               5 (2)\n",
            "             60 BINARY_ADD\n",
            "             62 STORE_FAST               0 (a)\n",
            "\n",
            " 12          64 LOAD_FAST                0 (a)\n",
            "             66 LOAD_FAST                1 (b)\n",
            "             68 BINARY_ADD\n",
            "             70 STORE_FAST               1 (b)\n",
            "\n",
            " 13          72 LOAD_FAST                1 (b)\n",
            "             74 LOAD_CONST               2 (3)\n",
            "             76 BINARY_ADD\n",
            "             78 STORE_FAST               1 (b)\n",
            "\n",
            " 14          80 LOAD_GLOBAL              0 (print)\n",
            "             82 LOAD_FAST                1 (b)\n",
            "             84 CALL_FUNCTION            1\n",
            "             86 POP_TOP\n",
            "\n",
            " 15          88 LOAD_FAST                0 (a)\n",
            "             90 LOAD_CONST               6 (89)\n",
            "             92 BINARY_ADD\n",
            "             94 STORE_FAST               0 (a)\n",
            "\n",
            " 16          96 LOAD_FAST                0 (a)\n",
            "             98 LOAD_FAST                1 (b)\n",
            "            100 BINARY_TRUE_DIVIDE\n",
            "            102 RETURN_VALUE\n"
          ]
        }
      ]
    },
    {
      "cell_type": "code",
      "source": [
        "# interpretor"
      ],
      "metadata": {
        "id": "BLNH6DHN-mGV"
      },
      "execution_count": null,
      "outputs": []
    },
    {
      "cell_type": "code",
      "source": [
        "# editor takes care of the rest to give it a workable graphical interface"
      ],
      "metadata": {
        "id": "-zG7RMCwTS44"
      },
      "execution_count": null,
      "outputs": []
    },
    {
      "cell_type": "code",
      "source": [
        "# variables -- int/long, float/double, string, set, lists, dictionary, dataframes\n",
        "a = 12\n",
        "b = 12.34\n",
        "str1 = \"a bee\"\n",
        "abc = {a,b,str1}\n",
        "tup_abc = (a,b,str1)\n",
        "thisdict = {\n",
        "  \"brand\": \"Ford\",\n",
        "  \"electric\": False,\n",
        "  \"year\": 1964,\n",
        "  \"colors\": [\"red\", \"white\", \"blue\"]\n",
        "} # \"name\": value "
      ],
      "metadata": {
        "id": "TDBhWKn-76kO"
      },
      "execution_count": 28,
      "outputs": []
    },
    {
      "cell_type": "code",
      "source": [
        "import pandas as pd\n",
        "\n",
        "pd.DataFrame.from_dict(thisdict)\n"
      ],
      "metadata": {
        "colab": {
          "base_uri": "https://localhost:8080/",
          "height": 143
        },
        "id": "v9LH3-IoZWV5",
        "outputId": "08a2a07b-39f0-4ca2-935b-824b9809cc89"
      },
      "execution_count": 30,
      "outputs": [
        {
          "output_type": "execute_result",
          "data": {
            "text/plain": [
              "  brand  electric  year colors\n",
              "0  Ford     False  1964    red\n",
              "1  Ford     False  1964  white\n",
              "2  Ford     False  1964   blue"
            ],
            "text/html": [
              "\n",
              "  <div id=\"df-6e760705-32e1-485f-b808-897444e1a390\">\n",
              "    <div class=\"colab-df-container\">\n",
              "      <div>\n",
              "<style scoped>\n",
              "    .dataframe tbody tr th:only-of-type {\n",
              "        vertical-align: middle;\n",
              "    }\n",
              "\n",
              "    .dataframe tbody tr th {\n",
              "        vertical-align: top;\n",
              "    }\n",
              "\n",
              "    .dataframe thead th {\n",
              "        text-align: right;\n",
              "    }\n",
              "</style>\n",
              "<table border=\"1\" class=\"dataframe\">\n",
              "  <thead>\n",
              "    <tr style=\"text-align: right;\">\n",
              "      <th></th>\n",
              "      <th>brand</th>\n",
              "      <th>electric</th>\n",
              "      <th>year</th>\n",
              "      <th>colors</th>\n",
              "    </tr>\n",
              "  </thead>\n",
              "  <tbody>\n",
              "    <tr>\n",
              "      <th>0</th>\n",
              "      <td>Ford</td>\n",
              "      <td>False</td>\n",
              "      <td>1964</td>\n",
              "      <td>red</td>\n",
              "    </tr>\n",
              "    <tr>\n",
              "      <th>1</th>\n",
              "      <td>Ford</td>\n",
              "      <td>False</td>\n",
              "      <td>1964</td>\n",
              "      <td>white</td>\n",
              "    </tr>\n",
              "    <tr>\n",
              "      <th>2</th>\n",
              "      <td>Ford</td>\n",
              "      <td>False</td>\n",
              "      <td>1964</td>\n",
              "      <td>blue</td>\n",
              "    </tr>\n",
              "  </tbody>\n",
              "</table>\n",
              "</div>\n",
              "      <button class=\"colab-df-convert\" onclick=\"convertToInteractive('df-6e760705-32e1-485f-b808-897444e1a390')\"\n",
              "              title=\"Convert this dataframe to an interactive table.\"\n",
              "              style=\"display:none;\">\n",
              "        \n",
              "  <svg xmlns=\"http://www.w3.org/2000/svg\" height=\"24px\"viewBox=\"0 0 24 24\"\n",
              "       width=\"24px\">\n",
              "    <path d=\"M0 0h24v24H0V0z\" fill=\"none\"/>\n",
              "    <path d=\"M18.56 5.44l.94 2.06.94-2.06 2.06-.94-2.06-.94-.94-2.06-.94 2.06-2.06.94zm-11 1L8.5 8.5l.94-2.06 2.06-.94-2.06-.94L8.5 2.5l-.94 2.06-2.06.94zm10 10l.94 2.06.94-2.06 2.06-.94-2.06-.94-.94-2.06-.94 2.06-2.06.94z\"/><path d=\"M17.41 7.96l-1.37-1.37c-.4-.4-.92-.59-1.43-.59-.52 0-1.04.2-1.43.59L10.3 9.45l-7.72 7.72c-.78.78-.78 2.05 0 2.83L4 21.41c.39.39.9.59 1.41.59.51 0 1.02-.2 1.41-.59l7.78-7.78 2.81-2.81c.8-.78.8-2.07 0-2.86zM5.41 20L4 18.59l7.72-7.72 1.47 1.35L5.41 20z\"/>\n",
              "  </svg>\n",
              "      </button>\n",
              "      \n",
              "  <style>\n",
              "    .colab-df-container {\n",
              "      display:flex;\n",
              "      flex-wrap:wrap;\n",
              "      gap: 12px;\n",
              "    }\n",
              "\n",
              "    .colab-df-convert {\n",
              "      background-color: #E8F0FE;\n",
              "      border: none;\n",
              "      border-radius: 50%;\n",
              "      cursor: pointer;\n",
              "      display: none;\n",
              "      fill: #1967D2;\n",
              "      height: 32px;\n",
              "      padding: 0 0 0 0;\n",
              "      width: 32px;\n",
              "    }\n",
              "\n",
              "    .colab-df-convert:hover {\n",
              "      background-color: #E2EBFA;\n",
              "      box-shadow: 0px 1px 2px rgba(60, 64, 67, 0.3), 0px 1px 3px 1px rgba(60, 64, 67, 0.15);\n",
              "      fill: #174EA6;\n",
              "    }\n",
              "\n",
              "    [theme=dark] .colab-df-convert {\n",
              "      background-color: #3B4455;\n",
              "      fill: #D2E3FC;\n",
              "    }\n",
              "\n",
              "    [theme=dark] .colab-df-convert:hover {\n",
              "      background-color: #434B5C;\n",
              "      box-shadow: 0px 1px 3px 1px rgba(0, 0, 0, 0.15);\n",
              "      filter: drop-shadow(0px 1px 2px rgba(0, 0, 0, 0.3));\n",
              "      fill: #FFFFFF;\n",
              "    }\n",
              "  </style>\n",
              "\n",
              "      <script>\n",
              "        const buttonEl =\n",
              "          document.querySelector('#df-6e760705-32e1-485f-b808-897444e1a390 button.colab-df-convert');\n",
              "        buttonEl.style.display =\n",
              "          google.colab.kernel.accessAllowed ? 'block' : 'none';\n",
              "\n",
              "        async function convertToInteractive(key) {\n",
              "          const element = document.querySelector('#df-6e760705-32e1-485f-b808-897444e1a390');\n",
              "          const dataTable =\n",
              "            await google.colab.kernel.invokeFunction('convertToInteractive',\n",
              "                                                     [key], {});\n",
              "          if (!dataTable) return;\n",
              "\n",
              "          const docLinkHtml = 'Like what you see? Visit the ' +\n",
              "            '<a target=\"_blank\" href=https://colab.research.google.com/notebooks/data_table.ipynb>data table notebook</a>'\n",
              "            + ' to learn more about interactive tables.';\n",
              "          element.innerHTML = '';\n",
              "          dataTable['output_type'] = 'display_data';\n",
              "          await google.colab.output.renderOutput(dataTable, element);\n",
              "          const docLink = document.createElement('div');\n",
              "          docLink.innerHTML = docLinkHtml;\n",
              "          element.appendChild(docLink);\n",
              "        }\n",
              "      </script>\n",
              "    </div>\n",
              "  </div>\n",
              "  "
            ]
          },
          "metadata": {},
          "execution_count": 30
        }
      ]
    },
    {
      "cell_type": "code",
      "source": [
        "# naming conventions\n",
        "\"\"\"\n",
        "The following naming styles are commonly distinguished:\n",
        "\n",
        "a __ single character names, except for specifically allowed cases:\n",
        "\n",
        "        counters or iterators (e.g. i, j, k, v, et al.)\n",
        "        e as an exception identifier in try/except statements.\n",
        "        f as a file handle in with statements\n",
        "        private TypeVars with no constraints (e.g. _T, _U, _V)\n",
        "\n",
        "lower_case_with_underscores __ mostly used\n",
        "\n",
        "\n",
        "UPPER_CASE_WITH_UNDERSCORES   __ global constants\n",
        "\n",
        "CapitalizedWords (or CapWords, or CamelCase – so named because of the bumpy look of its letters [4]). This is also sometimes known as StudlyCaps. __ exception name, class name\n",
        "\n",
        "mixedCase/camelCase (differs from CapitalizedWords by initial lowercase character!)\n",
        "\n",
        "Capitalized_Words_With_Underscores (not common)\n",
        "\n",
        "_single_leading_underscore: weak “internal use” indicator. E.g. from M import * does not import objects whose names start with an underscore.\n",
        "\n",
        "single_trailing_underscore_: used by convention to avoid conflicts with Python keyword, e.g.\n",
        "\n",
        "__double_leading_underscore: when naming a class attribute, invokes name mangling (inside class FooBar, __boo becomes _FooBar__boo; see below).\n",
        "\n",
        "__double_leading_and_trailing_underscore__: “magic” objects or attributes that live in user-controlled namespaces. E.g. __init__, __import__ or __file__. Never invent such names; only use them as documented. reserved by Python\n",
        "          dir(print)\n",
        "\n",
        "\"\"\""
      ],
      "metadata": {
        "id": "qVq2bN_A9H7P"
      },
      "execution_count": null,
      "outputs": []
    },
    {
      "cell_type": "code",
      "source": [
        "# type casting"
      ],
      "metadata": {
        "id": "7Eze1dEo8TLN"
      },
      "execution_count": null,
      "outputs": []
    },
    {
      "cell_type": "code",
      "source": [
        "# error handling-- try else , try finally , raise"
      ],
      "metadata": {
        "id": "JLHdFH118cPe"
      },
      "execution_count": null,
      "outputs": []
    },
    {
      "cell_type": "code",
      "source": [
        "# escape characters\n",
        "# \\'\tSingle Quote\t\n",
        "# \\\\\tBackslash\t\n",
        "# \\n\tNew Line\t\n",
        "# \\r\tCarriage Return\t\n",
        "# \\t\tTab\t\n",
        "# \\b\tBackspace\t\n",
        "# \\f\tForm Feed\t\n",
        "# \\ooo\tOctal value\t\n",
        "# \\xhh\tHex value\n",
        "\n",
        "\n"
      ],
      "metadata": {
        "id": "1UAUE8W38ej2"
      },
      "execution_count": null,
      "outputs": []
    },
    {
      "cell_type": "code",
      "source": [
        "# accessing a folder"
      ],
      "metadata": {
        "id": "CZG8ARFv9m2O"
      },
      "execution_count": null,
      "outputs": []
    },
    {
      "cell_type": "code",
      "source": [
        "# operators, bitwise operators"
      ],
      "metadata": {
        "id": "nAng8yYb82m-"
      },
      "execution_count": null,
      "outputs": []
    },
    {
      "cell_type": "code",
      "source": [
        "# decision if else elif lambda \n",
        "# tab indentation\n",
        "# dedentation"
      ],
      "metadata": {
        "id": "TVhZnI389Dqd"
      },
      "execution_count": null,
      "outputs": []
    },
    {
      "cell_type": "code",
      "source": [
        "# loop -- for loop, enumeration, "
      ],
      "metadata": {
        "id": "cF_MRv6o9ULd"
      },
      "execution_count": null,
      "outputs": []
    },
    {
      "cell_type": "code",
      "source": [
        "#iterators"
      ],
      "metadata": {
        "id": "VAG92e5g9ife"
      },
      "execution_count": null,
      "outputs": []
    },
    {
      "cell_type": "code",
      "source": [
        "## regular expression  -- string search"
      ],
      "metadata": {
        "id": "b20hQ5TqHJW1"
      },
      "execution_count": null,
      "outputs": []
    },
    {
      "cell_type": "code",
      "source": [
        "# method function"
      ],
      "metadata": {
        "id": "dWdN4YkR9rA-"
      },
      "execution_count": null,
      "outputs": []
    },
    {
      "cell_type": "code",
      "source": [
        "\"\"\"\n",
        "Module is a file which contains various Python functions and global variables. It is simply just .py extension file which has python executable code.\n",
        "\n",
        "Package is a collection of modules. It must contains an __init__.py file as a flag so that the python interpreter processes it as such. The __init__.py could be an empty file without causing issues.\n",
        "\n",
        "Library is a collection of packages.\n",
        "\n",
        "Framework is a collection of libraries. This is the architecture of the program.\n",
        "\"\"\""
      ],
      "metadata": {
        "id": "rUHRZbwO96qG"
      },
      "execution_count": null,
      "outputs": []
    },
    {
      "cell_type": "code",
      "source": [
        "# coding conventions\n",
        "# constants"
      ],
      "metadata": {
        "id": "95ZpBDf8986G"
      },
      "execution_count": null,
      "outputs": []
    },
    {
      "cell_type": "code",
      "source": [
        "# JSON and XML format"
      ],
      "metadata": {
        "id": "PACpaRlI-LB-"
      },
      "execution_count": null,
      "outputs": []
    },
    {
      "cell_type": "code",
      "source": [
        "# txt file reading writing appending"
      ],
      "metadata": {
        "id": "1IFu05Xo-OUH"
      },
      "execution_count": null,
      "outputs": []
    },
    {
      "cell_type": "code",
      "source": [
        "# image file manipulation\n"
      ],
      "metadata": {
        "id": "TCg9cD_M-WbH"
      },
      "execution_count": null,
      "outputs": []
    },
    {
      "cell_type": "code",
      "source": [
        "# CSV or excel file read write"
      ],
      "metadata": {
        "id": "cFUsnu1w-aC2"
      },
      "execution_count": null,
      "outputs": []
    },
    {
      "cell_type": "code",
      "source": [
        "# matplot visualize data"
      ],
      "metadata": {
        "id": "X8iyA1N3-u42"
      },
      "execution_count": null,
      "outputs": []
    }
  ]
}