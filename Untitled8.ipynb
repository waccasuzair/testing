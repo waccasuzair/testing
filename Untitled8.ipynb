{
  "nbformat": 4,
  "nbformat_minor": 0,
  "metadata": {
    "colab": {
      "provenance": [],
      "authorship_tag": "ABX9TyN1zq1i8OcNv7MxN87sIC5U"
    },
    "kernelspec": {
      "name": "python3",
      "display_name": "Python 3"
    },
    "language_info": {
      "name": "python"
    }
  },
  "cells": [
    {
      "cell_type": "code",
      "execution_count": 2,
      "metadata": {
        "colab": {
          "base_uri": "https://localhost:8080/"
        },
        "id": "VN2fP9r467eJ",
        "outputId": "7c2dc043-92a1-4e1c-b634-3417d4fefc9e"
      },
      "outputs": [
        {
          "output_type": "stream",
          "name": "stdout",
          "text": [
            "dsaf\n",
            "10\n",
            "10 dfads 10\n",
            "10 a gf\n"
          ]
        }
      ],
      "source": [
        "# comment ctrl + /\n",
        "\n",
        "\"\"\" multiline \n",
        "comments\n",
        "\"\"\"\n",
        "\n",
        "\n",
        "\n",
        "\n",
        "print(\"dsaf\")\n",
        "\n",
        "abc=10\n",
        "\n",
        "print(abc)\n",
        "\n",
        "print(abc,\"dfads\",abc)\n",
        "\n",
        "print(f'{abc} a gf')"
      ]
    },
    {
      "cell_type": "code",
      "source": [
        "# introduction to sequential programming, instruction set\n",
        "def add(a,b):\n",
        "    return a/b\n",
        "print(add.__code__.co_code)\n",
        "print(list(add.__code__.co_code))"
      ],
      "metadata": {
        "colab": {
          "base_uri": "https://localhost:8080/"
        },
        "id": "98Wn6xYZ-iKl",
        "outputId": "7b41f515-fdb1-47c6-da38-5a75e292e669"
      },
      "execution_count": 13,
      "outputs": [
        {
          "output_type": "stream",
          "name": "stdout",
          "text": [
            "b'|\\x00|\\x01\\x1b\\x00S\\x00'\n",
            "[124, 0, 124, 1, 27, 0, 83, 0]\n"
          ]
        }
      ]
    },
    {
      "cell_type": "code",
      "source": [
        "import dis\n",
        "dis.opname[124]"
      ],
      "metadata": {
        "colab": {
          "base_uri": "https://localhost:8080/",
          "height": 35
        },
        "id": "_GNIpSVxRMlr",
        "outputId": "d3324459-a4dd-443f-91c3-98afe2a0a5e6"
      },
      "execution_count": 14,
      "outputs": [
        {
          "output_type": "execute_result",
          "data": {
            "text/plain": [
              "'LOAD_FAST'"
            ],
            "application/vnd.google.colaboratory.intrinsic+json": {
              "type": "string"
            }
          },
          "metadata": {},
          "execution_count": 14
        }
      ]
    },
    {
      "cell_type": "code",
      "source": [
        "\n",
        "dis.dis(add)"
      ],
      "metadata": {
        "colab": {
          "base_uri": "https://localhost:8080/"
        },
        "id": "7TCTOpBtRSB1",
        "outputId": "4df02508-d8b8-4831-b6f4-2870703ff15a"
      },
      "execution_count": 15,
      "outputs": [
        {
          "output_type": "stream",
          "name": "stdout",
          "text": [
            "  3           0 LOAD_FAST                0 (a)\n",
            "              2 LOAD_FAST                1 (b)\n",
            "              4 BINARY_TRUE_DIVIDE\n",
            "              6 RETURN_VALUE\n"
          ]
        }
      ]
    },
    {
      "cell_type": "code",
      "source": [
        "# interpretor"
      ],
      "metadata": {
        "id": "BLNH6DHN-mGV"
      },
      "execution_count": null,
      "outputs": []
    },
    {
      "cell_type": "code",
      "source": [
        "# editor takes care of the rest to give it a workable graphical interface"
      ],
      "metadata": {
        "id": "-zG7RMCwTS44"
      },
      "execution_count": null,
      "outputs": []
    },
    {
      "cell_type": "code",
      "source": [
        "# variables -- int/long, float/double, string, tuple, lists, dictionary, numpy array, dataframes, set\n"
      ],
      "metadata": {
        "id": "TDBhWKn-76kO"
      },
      "execution_count": null,
      "outputs": []
    },
    {
      "cell_type": "code",
      "source": [
        "# naming conventions\n",
        "\"\"\"\n",
        "The following naming styles are commonly distinguished:\n",
        "\n",
        "a __ single character names, except for specifically allowed cases:\n",
        "\n",
        "        counters or iterators (e.g. i, j, k, v, et al.)\n",
        "        e as an exception identifier in try/except statements.\n",
        "        f as a file handle in with statements\n",
        "        private TypeVars with no constraints (e.g. _T, _U, _V)\n",
        "\n",
        "lower_case_with_underscores __ mostly used\n",
        "\n",
        "\n",
        "UPPER_CASE_WITH_UNDERSCORES   __ global constants\n",
        "\n",
        "CapitalizedWords (or CapWords, or CamelCase – so named because of the bumpy look of its letters [4]). This is also sometimes known as StudlyCaps. __ exception name, class name\n",
        "\n",
        "mixedCase/camelCase (differs from CapitalizedWords by initial lowercase character!)\n",
        "\n",
        "Capitalized_Words_With_Underscores (not common)\n",
        "\n",
        "_single_leading_underscore: weak “internal use” indicator. E.g. from M import * does not import objects whose names start with an underscore.\n",
        "\n",
        "single_trailing_underscore_: used by convention to avoid conflicts with Python keyword, e.g.\n",
        "\n",
        "__double_leading_underscore: when naming a class attribute, invokes name mangling (inside class FooBar, __boo becomes _FooBar__boo; see below).\n",
        "\n",
        "__double_leading_and_trailing_underscore__: “magic” objects or attributes that live in user-controlled namespaces. E.g. __init__, __import__ or __file__. Never invent such names; only use them as documented. reserved by Python\n",
        "          dir(print)\n",
        "\n",
        "\"\"\""
      ],
      "metadata": {
        "id": "qVq2bN_A9H7P"
      },
      "execution_count": null,
      "outputs": []
    },
    {
      "cell_type": "code",
      "source": [
        "# type casting"
      ],
      "metadata": {
        "id": "7Eze1dEo8TLN"
      },
      "execution_count": null,
      "outputs": []
    },
    {
      "cell_type": "code",
      "source": [
        "# error handling-- try else , try finally , raise"
      ],
      "metadata": {
        "id": "JLHdFH118cPe"
      },
      "execution_count": null,
      "outputs": []
    },
    {
      "cell_type": "code",
      "source": [
        "# escape characters\n",
        "# \\'\tSingle Quote\t\n",
        "# \\\\\tBackslash\t\n",
        "# \\n\tNew Line\t\n",
        "# \\r\tCarriage Return\t\n",
        "# \\t\tTab\t\n",
        "# \\b\tBackspace\t\n",
        "# \\f\tForm Feed\t\n",
        "# \\ooo\tOctal value\t\n",
        "# \\xhh\tHex value\n",
        "\n",
        "\n"
      ],
      "metadata": {
        "id": "1UAUE8W38ej2"
      },
      "execution_count": null,
      "outputs": []
    },
    {
      "cell_type": "code",
      "source": [
        "# accessing a folder"
      ],
      "metadata": {
        "id": "CZG8ARFv9m2O"
      },
      "execution_count": null,
      "outputs": []
    },
    {
      "cell_type": "code",
      "source": [
        "# operators, bitwise operators"
      ],
      "metadata": {
        "id": "nAng8yYb82m-"
      },
      "execution_count": null,
      "outputs": []
    },
    {
      "cell_type": "code",
      "source": [
        "# decision if else elif lambda \n",
        "# tab indentation\n",
        "# dedentation"
      ],
      "metadata": {
        "id": "TVhZnI389Dqd"
      },
      "execution_count": null,
      "outputs": []
    },
    {
      "cell_type": "code",
      "source": [
        "# loop -- for loop, enumeration, "
      ],
      "metadata": {
        "id": "cF_MRv6o9ULd"
      },
      "execution_count": null,
      "outputs": []
    },
    {
      "cell_type": "code",
      "source": [
        "#iterators"
      ],
      "metadata": {
        "id": "VAG92e5g9ife"
      },
      "execution_count": null,
      "outputs": []
    },
    {
      "cell_type": "code",
      "source": [
        "## regular expression  -- string search"
      ],
      "metadata": {
        "id": "b20hQ5TqHJW1"
      },
      "execution_count": null,
      "outputs": []
    },
    {
      "cell_type": "code",
      "source": [
        "# method function"
      ],
      "metadata": {
        "id": "dWdN4YkR9rA-"
      },
      "execution_count": null,
      "outputs": []
    },
    {
      "cell_type": "code",
      "source": [
        "\"\"\"\n",
        "Module is a file which contains various Python functions and global variables. It is simply just .py extension file which has python executable code.\n",
        "\n",
        "Package is a collection of modules. It must contains an __init__.py file as a flag so that the python interpreter processes it as such. The __init__.py could be an empty file without causing issues.\n",
        "\n",
        "Library is a collection of packages.\n",
        "\n",
        "Framework is a collection of libraries. This is the architecture of the program.\n",
        "\"\"\""
      ],
      "metadata": {
        "id": "rUHRZbwO96qG"
      },
      "execution_count": null,
      "outputs": []
    },
    {
      "cell_type": "code",
      "source": [
        "# coding conventions\n",
        "# constants"
      ],
      "metadata": {
        "id": "95ZpBDf8986G"
      },
      "execution_count": null,
      "outputs": []
    },
    {
      "cell_type": "code",
      "source": [
        "# JSON and XML format"
      ],
      "metadata": {
        "id": "PACpaRlI-LB-"
      },
      "execution_count": null,
      "outputs": []
    },
    {
      "cell_type": "code",
      "source": [
        "# txt file reading writing appending"
      ],
      "metadata": {
        "id": "1IFu05Xo-OUH"
      },
      "execution_count": null,
      "outputs": []
    },
    {
      "cell_type": "code",
      "source": [
        "# image file manipulation\n"
      ],
      "metadata": {
        "id": "TCg9cD_M-WbH"
      },
      "execution_count": null,
      "outputs": []
    },
    {
      "cell_type": "code",
      "source": [
        "# CSV or excel file read write"
      ],
      "metadata": {
        "id": "cFUsnu1w-aC2"
      },
      "execution_count": null,
      "outputs": []
    },
    {
      "cell_type": "code",
      "source": [
        "# matplot visualize data"
      ],
      "metadata": {
        "id": "X8iyA1N3-u42"
      },
      "execution_count": null,
      "outputs": []
    }
  ]
}