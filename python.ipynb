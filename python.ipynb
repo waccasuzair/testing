{
  "nbformat": 4,
  "nbformat_minor": 0,
  "metadata": {
    "colab": {
      "provenance": [],
      "authorship_tag": "ABX9TyM7jkjP93pC/dvORAuhKHT1",
      "include_colab_link": true
    },
    "kernelspec": {
      "name": "python3",
      "display_name": "Python 3"
    },
    "language_info": {
      "name": "python"
    }
  },
  "cells": [
    {
      "cell_type": "markdown",
      "metadata": {
        "id": "view-in-github",
        "colab_type": "text"
      },
      "source": [
        "<a href=\"https://colab.research.google.com/github/waccasuzair/testing/blob/master/python.ipynb\" target=\"_parent\"><img src=\"https://colab.research.google.com/assets/colab-badge.svg\" alt=\"Open In Colab\"/></a>"
      ]
    },
    {
      "cell_type": "code",
      "execution_count": null,
      "metadata": {
        "id": "sV3RkhttvGgp"
      },
      "outputs": [],
      "source": []
    },
    {
      "cell_type": "markdown",
      "source": [
        "**Python**\n",
        "\n",
        "1. *Nlp stream*\n",
        "2. *data science stream*\n",
        "3. *optimization stream*\n",
        "4. *image classification stream*\n",
        "5. *object detection stream*\n",
        "6. *re-inforcement learning stream*\n",
        "7. *pygame stream*\n",
        "8. python microcontroller stream\n",
        "9. python basic stream\n",
        "10. python intermediate stream\n",
        "11. temporal data analysis stream\n",
        "12. Automation stream\n",
        "13. Mobile app dev stream\n",
        "14. Web dev stream"
      ],
      "metadata": {
        "id": "XyW4XEx7vJMP"
      }
    },
    {
      "cell_type": "markdown",
      "source": [],
      "metadata": {
        "id": "S0G2nC8bvKvm"
      }
    }
  ]
}